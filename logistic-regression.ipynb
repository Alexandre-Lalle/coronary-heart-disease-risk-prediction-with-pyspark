{
 "cells": [
  {
   "cell_type": "markdown",
   "id": "20c7a86f-81e3-481d-82b7-c5e70128eb59",
   "metadata": {},
   "source": [
    "** LOGISTIC REGRESSION TO PREDICT HEART DISEASE.**"
   ]
  },
  {
   "cell_type": "code",
   "execution_count": 41,
   "id": "3026621c-d4f5-465d-8c89-6efb5d0bc656",
   "metadata": {
    "tags": []
   },
   "outputs": [],
   "source": [
    "# Import des bibliothèques nécessaires\n",
    "from pyspark.sql import SparkSession\n",
    "from pyspark.ml.feature import StringIndexer, OneHotEncoder, VectorAssembler\n",
    "from pyspark.ml.classification import LogisticRegression\n",
    "from pyspark.ml.evaluation import BinaryClassificationEvaluator\n",
    "from pyspark.sql.functions import *\n",
    "from pyspark.sql.types import IntegerType, DoubleType\n",
    "import matplotlib.pyplot as plt\n",
    "from pyspark.sql.functions import mean, sum, max\n",
    "from pyspark.sql.functions import when\n",
    "from pyspark.sql.functions import col, count\n",
    "import seaborn as sns\n",
    "import pandas as pd"
   ]
  },
  {
   "cell_type": "code",
   "execution_count": 42,
   "id": "47999542-c604-4f9e-8eed-397b0963969d",
   "metadata": {
    "tags": []
   },
   "outputs": [],
   "source": [
    "# Création d'une session Spark\n",
    "spark = SparkSession.builder \\\n",
    "    .appName(\"Regression logistique avec PySpark\") \\\n",
    "    .getOrCreate()\n",
    "\n",
    "# Chargement des données\n",
    "heart_df = spark.read.format(\"csv\").option(\"header\", \"true\").load(\"input/framingham.csv\")\n",
    "\n",
    "# Renommage de la colonne 'male' en 'Sex_male'\n",
    "heart_df = heart_df.withColumnRenamed(\"male\", \"Sex_male\")\n",
    "\n",
    "# Suppression des lignes avec des valeurs manquantes\n",
    "heart_df = heart_df.dropna()\n",
    "# Supprimer les lignes contenant des NaN\n",
    "heart_df = heart_df.na.drop()"
   ]
  },
  {
   "cell_type": "markdown",
   "id": "68adb183-72dc-4190-a745-b7f413604bef",
   "metadata": {},
   "source": [
    "# Visualisation"
   ]
  },
  {
   "cell_type": "code",
   "execution_count": 43,
   "id": "bc313235-9a2e-457a-970d-4272adcfe096",
   "metadata": {
    "tags": []
   },
   "outputs": [
    {
     "data": {
      "text/html": [
       "<div>\n",
       "<style scoped>\n",
       "    .dataframe tbody tr th:only-of-type {\n",
       "        vertical-align: middle;\n",
       "    }\n",
       "\n",
       "    .dataframe tbody tr th {\n",
       "        vertical-align: top;\n",
       "    }\n",
       "\n",
       "    .dataframe thead th {\n",
       "        text-align: right;\n",
       "    }\n",
       "</style>\n",
       "<table border=\"1\" class=\"dataframe\">\n",
       "  <thead>\n",
       "    <tr style=\"text-align: right;\">\n",
       "      <th></th>\n",
       "      <th>Sex_male</th>\n",
       "      <th>age</th>\n",
       "      <th>education</th>\n",
       "      <th>currentSmoker</th>\n",
       "      <th>cigsPerDay</th>\n",
       "      <th>BPMeds</th>\n",
       "      <th>prevalentStroke</th>\n",
       "      <th>prevalentHyp</th>\n",
       "      <th>diabetes</th>\n",
       "      <th>totChol</th>\n",
       "      <th>sysBP</th>\n",
       "      <th>diaBP</th>\n",
       "      <th>BMI</th>\n",
       "      <th>heartRate</th>\n",
       "      <th>glucose</th>\n",
       "      <th>TenYearCHD</th>\n",
       "    </tr>\n",
       "  </thead>\n",
       "  <tbody>\n",
       "    <tr>\n",
       "      <th>0</th>\n",
       "      <td>1</td>\n",
       "      <td>39</td>\n",
       "      <td>4</td>\n",
       "      <td>0</td>\n",
       "      <td>0</td>\n",
       "      <td>0</td>\n",
       "      <td>0</td>\n",
       "      <td>0</td>\n",
       "      <td>0</td>\n",
       "      <td>195</td>\n",
       "      <td>106</td>\n",
       "      <td>70</td>\n",
       "      <td>26.97</td>\n",
       "      <td>80</td>\n",
       "      <td>77</td>\n",
       "      <td>0</td>\n",
       "    </tr>\n",
       "    <tr>\n",
       "      <th>1</th>\n",
       "      <td>0</td>\n",
       "      <td>46</td>\n",
       "      <td>2</td>\n",
       "      <td>0</td>\n",
       "      <td>0</td>\n",
       "      <td>0</td>\n",
       "      <td>0</td>\n",
       "      <td>0</td>\n",
       "      <td>0</td>\n",
       "      <td>250</td>\n",
       "      <td>121</td>\n",
       "      <td>81</td>\n",
       "      <td>28.73</td>\n",
       "      <td>95</td>\n",
       "      <td>76</td>\n",
       "      <td>0</td>\n",
       "    </tr>\n",
       "    <tr>\n",
       "      <th>2</th>\n",
       "      <td>1</td>\n",
       "      <td>48</td>\n",
       "      <td>1</td>\n",
       "      <td>1</td>\n",
       "      <td>20</td>\n",
       "      <td>0</td>\n",
       "      <td>0</td>\n",
       "      <td>0</td>\n",
       "      <td>0</td>\n",
       "      <td>245</td>\n",
       "      <td>127.5</td>\n",
       "      <td>80</td>\n",
       "      <td>25.34</td>\n",
       "      <td>75</td>\n",
       "      <td>70</td>\n",
       "      <td>0</td>\n",
       "    </tr>\n",
       "    <tr>\n",
       "      <th>3</th>\n",
       "      <td>0</td>\n",
       "      <td>61</td>\n",
       "      <td>3</td>\n",
       "      <td>1</td>\n",
       "      <td>30</td>\n",
       "      <td>0</td>\n",
       "      <td>0</td>\n",
       "      <td>1</td>\n",
       "      <td>0</td>\n",
       "      <td>225</td>\n",
       "      <td>150</td>\n",
       "      <td>95</td>\n",
       "      <td>28.58</td>\n",
       "      <td>65</td>\n",
       "      <td>103</td>\n",
       "      <td>1</td>\n",
       "    </tr>\n",
       "    <tr>\n",
       "      <th>4</th>\n",
       "      <td>0</td>\n",
       "      <td>46</td>\n",
       "      <td>3</td>\n",
       "      <td>1</td>\n",
       "      <td>23</td>\n",
       "      <td>0</td>\n",
       "      <td>0</td>\n",
       "      <td>0</td>\n",
       "      <td>0</td>\n",
       "      <td>285</td>\n",
       "      <td>130</td>\n",
       "      <td>84</td>\n",
       "      <td>23.1</td>\n",
       "      <td>85</td>\n",
       "      <td>85</td>\n",
       "      <td>0</td>\n",
       "    </tr>\n",
       "  </tbody>\n",
       "</table>\n",
       "</div>"
      ],
      "text/plain": [
       "  Sex_male age education currentSmoker cigsPerDay BPMeds prevalentStroke   \n",
       "0        1  39         4             0          0      0               0  \\\n",
       "1        0  46         2             0          0      0               0   \n",
       "2        1  48         1             1         20      0               0   \n",
       "3        0  61         3             1         30      0               0   \n",
       "4        0  46         3             1         23      0               0   \n",
       "\n",
       "  prevalentHyp diabetes totChol  sysBP diaBP    BMI heartRate glucose   \n",
       "0            0        0     195    106    70  26.97        80      77  \\\n",
       "1            0        0     250    121    81  28.73        95      76   \n",
       "2            0        0     245  127.5    80  25.34        75      70   \n",
       "3            1        0     225    150    95  28.58        65     103   \n",
       "4            0        0     285    130    84   23.1        85      85   \n",
       "\n",
       "  TenYearCHD  \n",
       "0          0  \n",
       "1          0  \n",
       "2          0  \n",
       "3          1  \n",
       "4          0  "
      ]
     },
     "execution_count": 43,
     "metadata": {},
     "output_type": "execute_result"
    }
   ],
   "source": [
    "heart_df.toPandas().head()"
   ]
  },
  {
   "cell_type": "code",
   "execution_count": 44,
   "id": "344a9cb0-3608-4319-a585-16c53d43d7c9",
   "metadata": {
    "tags": []
   },
   "outputs": [
    {
     "data": {
      "text/plain": [
       "4238"
      ]
     },
     "execution_count": 44,
     "metadata": {},
     "output_type": "execute_result"
    }
   ],
   "source": [
    "heart_df.count()"
   ]
  },
  {
   "cell_type": "code",
   "execution_count": 45,
   "id": "cec7e1a6-ec46-4650-851d-f3051be79d35",
   "metadata": {
    "tags": []
   },
   "outputs": [
    {
     "name": "stdout",
     "output_type": "stream",
     "text": [
      "+--------+-----+\n",
      "|Sex_male|count|\n",
      "+--------+-----+\n",
      "|       0| 2419|\n",
      "|       1| 1819|\n",
      "+--------+-----+\n",
      "\n"
     ]
    }
   ],
   "source": [
    "heart_df.groupBy('Sex_male').count().show()"
   ]
  },
  {
   "cell_type": "markdown",
   "id": "dcdc11f2-3c1f-4e26-84ca-c376d0b909ba",
   "metadata": {
    "tags": []
   },
   "source": [
    "### Distribution de la maladie CHD selon le sex"
   ]
  },
  {
   "cell_type": "code",
   "execution_count": 46,
   "id": "804009f9-fdf1-463e-8d51-a2edd7eadec3",
   "metadata": {
    "tags": []
   },
   "outputs": [
    {
     "data": {
      "image/png": "[encoded data removed]",
      "text/plain": [
       "<Figure size 1500x500 with 1 Axes>"
      ]
     },
     "metadata": {},
     "output_type": "display_data"
    }
   ],
   "source": [
    "sex_chd_count = (heart_df.groupBy(['Sex_male','TenYearCHD'])\n",
    "                    .agg(count(col('Sex_male')).alias('count'))\n",
    "                    .toPandas())\n",
    "\n",
    "fig, ax = plt.subplots(1, 1, figsize=(15,5))\n",
    "\n",
    "# graphique à barres\n",
    "sns.barplot(x='Sex_male', y='count', hue='TenYearCHD', data=sex_chd_count)\n",
    "\n",
    "plt.xlabel('male')\n",
    "plt.ylabel('Counts')\n",
    "plt.title('CHD Distribution by male sex')\n",
    "\n",
    "plt.show()"
   ]
  },
  {
   "cell_type": "code",
   "execution_count": 47,
   "id": "0346ef8d-482e-4e22-ba1d-967409cf6ead",
   "metadata": {
    "tags": []
   },
   "outputs": [
    {
     "name": "stdout",
     "output_type": "stream",
     "text": [
      "+----------+-----+\n",
      "|TenYearCHD|count|\n",
      "+----------+-----+\n",
      "|         0| 3594|\n",
      "|         1|  644|\n",
      "+----------+-----+\n",
      "\n"
     ]
    }
   ],
   "source": [
    "heart_df.groupBy('TenYearCHD').count().show()"
   ]
  },
  {
   "cell_type": "markdown",
   "id": "95af66b9-6a2e-4869-beba-08b6b48c0123",
   "metadata": {
    "tags": []
   },
   "source": [
    "## Vérification de la corrélation avec TenYearCHD "
   ]
  },
  {
   "cell_type": "code",
   "execution_count": 48,
   "id": "69285d01-1c4d-4074-a7bd-a53cf4b7a562",
   "metadata": {
    "tags": []
   },
   "outputs": [
    {
     "data": {
      "text/html": [
       "<div>\n",
       "<style scoped>\n",
       "    .dataframe tbody tr th:only-of-type {\n",
       "        vertical-align: middle;\n",
       "    }\n",
       "\n",
       "    .dataframe tbody tr th {\n",
       "        vertical-align: top;\n",
       "    }\n",
       "\n",
       "    .dataframe thead th {\n",
       "        text-align: right;\n",
       "    }\n",
       "</style>\n",
       "<table border=\"1\" class=\"dataframe\">\n",
       "  <thead>\n",
       "    <tr style=\"text-align: right;\">\n",
       "      <th></th>\n",
       "      <th>0</th>\n",
       "    </tr>\n",
       "  </thead>\n",
       "  <tbody>\n",
       "    <tr>\n",
       "      <th>Sex_male</th>\n",
       "      <td>8.842757</td>\n",
       "    </tr>\n",
       "    <tr>\n",
       "      <th>age</th>\n",
       "      <td>22.525610</td>\n",
       "    </tr>\n",
       "    <tr>\n",
       "      <th>education</th>\n",
       "      <td>-5.405896</td>\n",
       "    </tr>\n",
       "    <tr>\n",
       "      <th>currentSmoker</th>\n",
       "      <td>1.945627</td>\n",
       "    </tr>\n",
       "    <tr>\n",
       "      <th>cigsPerDay</th>\n",
       "      <td>5.788426</td>\n",
       "    </tr>\n",
       "    <tr>\n",
       "      <th>BPMeds</th>\n",
       "      <td>8.748858</td>\n",
       "    </tr>\n",
       "    <tr>\n",
       "      <th>prevalentStroke</th>\n",
       "      <td>6.180995</td>\n",
       "    </tr>\n",
       "    <tr>\n",
       "      <th>prevalentHyp</th>\n",
       "      <td>17.760273</td>\n",
       "    </tr>\n",
       "    <tr>\n",
       "      <th>diabetes</th>\n",
       "      <td>9.731651</td>\n",
       "    </tr>\n",
       "    <tr>\n",
       "      <th>totChol</th>\n",
       "      <td>8.218428</td>\n",
       "    </tr>\n",
       "    <tr>\n",
       "      <th>sysBP</th>\n",
       "      <td>21.642904</td>\n",
       "    </tr>\n",
       "    <tr>\n",
       "      <th>diaBP</th>\n",
       "      <td>14.529910</td>\n",
       "    </tr>\n",
       "    <tr>\n",
       "      <th>BMI</th>\n",
       "      <td>7.519193</td>\n",
       "    </tr>\n",
       "    <tr>\n",
       "      <th>heartRate</th>\n",
       "      <td>2.291261</td>\n",
       "    </tr>\n",
       "    <tr>\n",
       "      <th>glucose</th>\n",
       "      <td>12.554400</td>\n",
       "    </tr>\n",
       "    <tr>\n",
       "      <th>TenYearCHD</th>\n",
       "      <td>100.000000</td>\n",
       "    </tr>\n",
       "  </tbody>\n",
       "</table>\n",
       "</div>"
      ],
      "text/plain": [
       "                          0\n",
       "Sex_male           8.842757\n",
       "age               22.525610\n",
       "education         -5.405896\n",
       "currentSmoker      1.945627\n",
       "cigsPerDay         5.788426\n",
       "BPMeds             8.748858\n",
       "prevalentStroke    6.180995\n",
       "prevalentHyp      17.760273\n",
       "diabetes           9.731651\n",
       "totChol            8.218428\n",
       "sysBP             21.642904\n",
       "diaBP             14.529910\n",
       "BMI                7.519193\n",
       "heartRate          2.291261\n",
       "glucose           12.554400\n",
       "TenYearCHD       100.000000"
      ]
     },
     "execution_count": 48,
     "metadata": {},
     "output_type": "execute_result"
    }
   ],
   "source": [
    "import pyspark.sql.functions as F\n",
    "\n",
    "correlations = heart_df.select([F.corr(F.col('TenYearCHD'), F.col(c)).alias(c) for c in heart_df.columns]).toPandas()\n",
    "correlations = correlations.T*100\n",
    "correlations"
   ]
  },
  {
   "cell_type": "code",
   "execution_count": 49,
   "id": "901ed8bc-891b-4866-9de0-5f8f706148fd",
   "metadata": {
    "tags": []
   },
   "outputs": [],
   "source": [
    "# Suppression de la colonne 'education'\n",
    "heart_df = heart_df.drop(\"education\")\n"
   ]
  },
  {
   "cell_type": "code",
   "execution_count": 50,
   "id": "bfe1ab7d-74f6-4c59-8d45-5e6f690b1c77",
   "metadata": {
    "tags": []
   },
   "outputs": [
    {
     "name": "stdout",
     "output_type": "stream",
     "text": [
      "root\n",
      " |-- Sex_male: string (nullable = true)\n",
      " |-- age: string (nullable = true)\n",
      " |-- currentSmoker: string (nullable = true)\n",
      " |-- cigsPerDay: string (nullable = true)\n",
      " |-- BPMeds: string (nullable = true)\n",
      " |-- prevalentStroke: string (nullable = true)\n",
      " |-- prevalentHyp: string (nullable = true)\n",
      " |-- diabetes: string (nullable = true)\n",
      " |-- totChol: string (nullable = true)\n",
      " |-- sysBP: string (nullable = true)\n",
      " |-- diaBP: string (nullable = true)\n",
      " |-- BMI: string (nullable = true)\n",
      " |-- heartRate: string (nullable = true)\n",
      " |-- glucose: string (nullable = true)\n",
      " |-- TenYearCHD: string (nullable = true)\n",
      "\n"
     ]
    }
   ],
   "source": [
    "heart_df.printSchema()"
   ]
  },
  {
   "cell_type": "code",
   "execution_count": 53,
   "id": "f85b3ede-b94f-4105-98c9-8405295cb809",
   "metadata": {
    "tags": []
   },
   "outputs": [],
   "source": [
    "# Conversion des colonnes string en double\n",
    "for col_name in [\"age\", \"cigsPerDay\", \"totChol\", \"sysBP\",\"diaBP\", \"glucose\",\"TenYearCHD\",\"prevalentHyp\"]:\n",
    "    heart_df = heart_df.withColumn(col_name, col(col_name).cast(\"double\"))\n",
    "\n",
    "# Indexation et encodage des colonnes catégorielles\n",
    "indexer = StringIndexer(inputCol='Sex_male', outputCol='Sex_maleIndex')\n",
    "indexed = indexer.fit(heart_df).transform(heart_df)\n",
    "\n",
    "encoder = OneHotEncoder(inputCols=['Sex_maleIndex'], outputCols=['Sex_maleIndexVec'])\n",
    "encoded = encoder.fit(indexed).transform(indexed)\n"
   ]
  },
  {
   "cell_type": "code",
   "execution_count": 54,
   "id": "2a72d6b9-bc08-4092-9f09-18af357c0dec",
   "metadata": {
    "tags": []
   },
   "outputs": [
    {
     "name": "stdout",
     "output_type": "stream",
     "text": [
      "root\n",
      " |-- Sex_male: string (nullable = true)\n",
      " |-- age: double (nullable = true)\n",
      " |-- currentSmoker: string (nullable = true)\n",
      " |-- cigsPerDay: double (nullable = true)\n",
      " |-- BPMeds: string (nullable = true)\n",
      " |-- prevalentStroke: string (nullable = true)\n",
      " |-- prevalentHyp: double (nullable = true)\n",
      " |-- diabetes: string (nullable = true)\n",
      " |-- totChol: double (nullable = true)\n",
      " |-- sysBP: double (nullable = true)\n",
      " |-- diaBP: double (nullable = true)\n",
      " |-- BMI: string (nullable = true)\n",
      " |-- heartRate: string (nullable = true)\n",
      " |-- glucose: double (nullable = true)\n",
      " |-- TenYearCHD: double (nullable = true)\n",
      " |-- Sex_maleIndex: double (nullable = false)\n",
      " |-- Sex_maleIndexVec: vector (nullable = true)\n",
      "\n"
     ]
    }
   ],
   "source": [
    "encoded.printSchema()"
   ]
  },
  {
   "cell_type": "code",
   "execution_count": 55,
   "id": "da741c91-de94-41b2-98f7-58133c3f89ed",
   "metadata": {
    "tags": []
   },
   "outputs": [
    {
     "data": {
      "text/plain": [
       "DataFrame[Sex_male: string, age: double, currentSmoker: string, cigsPerDay: double, BPMeds: string, prevalentStroke: string, prevalentHyp: double, diabetes: string, totChol: double, sysBP: double, diaBP: double, BMI: string, heartRate: string, glucose: double, TenYearCHD: double, Sex_maleIndex: double, Sex_maleIndexVec: vector, features: vector]"
      ]
     },
     "execution_count": 55,
     "metadata": {},
     "output_type": "execute_result"
    }
   ],
   "source": [
    "# Assemblage des colonnes en un vecteur de caractéristiques\n",
    "assembler = VectorAssembler(inputCols=[\"age\", \"Sex_maleIndexVec\", \"cigsPerDay\", \"totChol\", \"sysBP\",\"diaBP\", \"glucose\",\"prevalentHyp\"], outputCol=\"features\", handleInvalid=\"skip\")\n",
    "output = assembler.transform(encoded)\n",
    "output\n"
   ]
  },
  {
   "cell_type": "code",
   "execution_count": 56,
   "id": "42b5371d-523d-4fb3-9a25-befe48c6bdd8",
   "metadata": {
    "tags": []
   },
   "outputs": [
    {
     "data": {
      "text/html": [
       "<div>\n",
       "<style scoped>\n",
       "    .dataframe tbody tr th:only-of-type {\n",
       "        vertical-align: middle;\n",
       "    }\n",
       "\n",
       "    .dataframe tbody tr th {\n",
       "        vertical-align: top;\n",
       "    }\n",
       "\n",
       "    .dataframe thead th {\n",
       "        text-align: right;\n",
       "    }\n",
       "</style>\n",
       "<table border=\"1\" class=\"dataframe\">\n",
       "  <thead>\n",
       "    <tr style=\"text-align: right;\">\n",
       "      <th></th>\n",
       "      <th>Sex_male</th>\n",
       "      <th>age</th>\n",
       "      <th>currentSmoker</th>\n",
       "      <th>cigsPerDay</th>\n",
       "      <th>BPMeds</th>\n",
       "      <th>prevalentStroke</th>\n",
       "      <th>prevalentHyp</th>\n",
       "      <th>diabetes</th>\n",
       "      <th>totChol</th>\n",
       "      <th>sysBP</th>\n",
       "      <th>diaBP</th>\n",
       "      <th>BMI</th>\n",
       "      <th>heartRate</th>\n",
       "      <th>glucose</th>\n",
       "      <th>TenYearCHD</th>\n",
       "      <th>Sex_maleIndex</th>\n",
       "      <th>Sex_maleIndexVec</th>\n",
       "      <th>features</th>\n",
       "    </tr>\n",
       "  </thead>\n",
       "  <tbody>\n",
       "    <tr>\n",
       "      <th>0</th>\n",
       "      <td>1</td>\n",
       "      <td>39.0</td>\n",
       "      <td>0</td>\n",
       "      <td>0.0</td>\n",
       "      <td>0</td>\n",
       "      <td>0</td>\n",
       "      <td>0.0</td>\n",
       "      <td>0</td>\n",
       "      <td>195.0</td>\n",
       "      <td>106.0</td>\n",
       "      <td>70.0</td>\n",
       "      <td>26.97</td>\n",
       "      <td>80</td>\n",
       "      <td>77.0</td>\n",
       "      <td>0.0</td>\n",
       "      <td>1.0</td>\n",
       "      <td>(0.0)</td>\n",
       "      <td>[39.0, 0.0, 0.0, 195.0, 106.0, 70.0, 77.0, 0.0]</td>\n",
       "    </tr>\n",
       "    <tr>\n",
       "      <th>1</th>\n",
       "      <td>0</td>\n",
       "      <td>46.0</td>\n",
       "      <td>0</td>\n",
       "      <td>0.0</td>\n",
       "      <td>0</td>\n",
       "      <td>0</td>\n",
       "      <td>0.0</td>\n",
       "      <td>0</td>\n",
       "      <td>250.0</td>\n",
       "      <td>121.0</td>\n",
       "      <td>81.0</td>\n",
       "      <td>28.73</td>\n",
       "      <td>95</td>\n",
       "      <td>76.0</td>\n",
       "      <td>0.0</td>\n",
       "      <td>0.0</td>\n",
       "      <td>(1.0)</td>\n",
       "      <td>[46.0, 1.0, 0.0, 250.0, 121.0, 81.0, 76.0, 0.0]</td>\n",
       "    </tr>\n",
       "    <tr>\n",
       "      <th>2</th>\n",
       "      <td>1</td>\n",
       "      <td>48.0</td>\n",
       "      <td>1</td>\n",
       "      <td>20.0</td>\n",
       "      <td>0</td>\n",
       "      <td>0</td>\n",
       "      <td>0.0</td>\n",
       "      <td>0</td>\n",
       "      <td>245.0</td>\n",
       "      <td>127.5</td>\n",
       "      <td>80.0</td>\n",
       "      <td>25.34</td>\n",
       "      <td>75</td>\n",
       "      <td>70.0</td>\n",
       "      <td>0.0</td>\n",
       "      <td>1.0</td>\n",
       "      <td>(0.0)</td>\n",
       "      <td>[48.0, 0.0, 20.0, 245.0, 127.5, 80.0, 70.0, 0.0]</td>\n",
       "    </tr>\n",
       "    <tr>\n",
       "      <th>3</th>\n",
       "      <td>0</td>\n",
       "      <td>61.0</td>\n",
       "      <td>1</td>\n",
       "      <td>30.0</td>\n",
       "      <td>0</td>\n",
       "      <td>0</td>\n",
       "      <td>1.0</td>\n",
       "      <td>0</td>\n",
       "      <td>225.0</td>\n",
       "      <td>150.0</td>\n",
       "      <td>95.0</td>\n",
       "      <td>28.58</td>\n",
       "      <td>65</td>\n",
       "      <td>103.0</td>\n",
       "      <td>1.0</td>\n",
       "      <td>0.0</td>\n",
       "      <td>(1.0)</td>\n",
       "      <td>[61.0, 1.0, 30.0, 225.0, 150.0, 95.0, 103.0, 1.0]</td>\n",
       "    </tr>\n",
       "    <tr>\n",
       "      <th>4</th>\n",
       "      <td>0</td>\n",
       "      <td>46.0</td>\n",
       "      <td>1</td>\n",
       "      <td>23.0</td>\n",
       "      <td>0</td>\n",
       "      <td>0</td>\n",
       "      <td>0.0</td>\n",
       "      <td>0</td>\n",
       "      <td>285.0</td>\n",
       "      <td>130.0</td>\n",
       "      <td>84.0</td>\n",
       "      <td>23.1</td>\n",
       "      <td>85</td>\n",
       "      <td>85.0</td>\n",
       "      <td>0.0</td>\n",
       "      <td>0.0</td>\n",
       "      <td>(1.0)</td>\n",
       "      <td>[46.0, 1.0, 23.0, 285.0, 130.0, 84.0, 85.0, 0.0]</td>\n",
       "    </tr>\n",
       "  </tbody>\n",
       "</table>\n",
       "</div>"
      ],
      "text/plain": [
       "  Sex_male   age currentSmoker  cigsPerDay BPMeds prevalentStroke   \n",
       "0        1  39.0             0         0.0      0               0  \\\n",
       "1        0  46.0             0         0.0      0               0   \n",
       "2        1  48.0             1        20.0      0               0   \n",
       "3        0  61.0             1        30.0      0               0   \n",
       "4        0  46.0             1        23.0      0               0   \n",
       "\n",
       "   prevalentHyp diabetes  totChol  sysBP  diaBP    BMI heartRate  glucose   \n",
       "0           0.0        0    195.0  106.0   70.0  26.97        80     77.0  \\\n",
       "1           0.0        0    250.0  121.0   81.0  28.73        95     76.0   \n",
       "2           0.0        0    245.0  127.5   80.0  25.34        75     70.0   \n",
       "3           1.0        0    225.0  150.0   95.0  28.58        65    103.0   \n",
       "4           0.0        0    285.0  130.0   84.0   23.1        85     85.0   \n",
       "\n",
       "   TenYearCHD  Sex_maleIndex Sex_maleIndexVec   \n",
       "0         0.0            1.0            (0.0)  \\\n",
       "1         0.0            0.0            (1.0)   \n",
       "2         0.0            1.0            (0.0)   \n",
       "3         1.0            0.0            (1.0)   \n",
       "4         0.0            0.0            (1.0)   \n",
       "\n",
       "                                            features  \n",
       "0    [39.0, 0.0, 0.0, 195.0, 106.0, 70.0, 77.0, 0.0]  \n",
       "1    [46.0, 1.0, 0.0, 250.0, 121.0, 81.0, 76.0, 0.0]  \n",
       "2   [48.0, 0.0, 20.0, 245.0, 127.5, 80.0, 70.0, 0.0]  \n",
       "3  [61.0, 1.0, 30.0, 225.0, 150.0, 95.0, 103.0, 1.0]  \n",
       "4   [46.0, 1.0, 23.0, 285.0, 130.0, 84.0, 85.0, 0.0]  "
      ]
     },
     "execution_count": 56,
     "metadata": {},
     "output_type": "execute_result"
    }
   ],
   "source": [
    "output.toPandas().head()"
   ]
  },
  {
   "cell_type": "code",
   "execution_count": 57,
   "id": "dd5ed3a0-2454-4613-9c28-c73e4ba5176b",
   "metadata": {
    "tags": []
   },
   "outputs": [
    {
     "data": {
      "text/html": [
       "<div>\n",
       "<style scoped>\n",
       "    .dataframe tbody tr th:only-of-type {\n",
       "        vertical-align: middle;\n",
       "    }\n",
       "\n",
       "    .dataframe tbody tr th {\n",
       "        vertical-align: top;\n",
       "    }\n",
       "\n",
       "    .dataframe thead th {\n",
       "        text-align: right;\n",
       "    }\n",
       "</style>\n",
       "<table border=\"1\" class=\"dataframe\">\n",
       "  <thead>\n",
       "    <tr style=\"text-align: right;\">\n",
       "      <th></th>\n",
       "      <th>features</th>\n",
       "      <th>TenYearCHD</th>\n",
       "    </tr>\n",
       "  </thead>\n",
       "  <tbody>\n",
       "    <tr>\n",
       "      <th>0</th>\n",
       "      <td>[39.0, 0.0, 0.0, 195.0, 106.0, 70.0, 77.0, 0.0]</td>\n",
       "      <td>0.0</td>\n",
       "    </tr>\n",
       "    <tr>\n",
       "      <th>1</th>\n",
       "      <td>[46.0, 1.0, 0.0, 250.0, 121.0, 81.0, 76.0, 0.0]</td>\n",
       "      <td>0.0</td>\n",
       "    </tr>\n",
       "    <tr>\n",
       "      <th>2</th>\n",
       "      <td>[48.0, 0.0, 20.0, 245.0, 127.5, 80.0, 70.0, 0.0]</td>\n",
       "      <td>0.0</td>\n",
       "    </tr>\n",
       "    <tr>\n",
       "      <th>3</th>\n",
       "      <td>[61.0, 1.0, 30.0, 225.0, 150.0, 95.0, 103.0, 1.0]</td>\n",
       "      <td>1.0</td>\n",
       "    </tr>\n",
       "    <tr>\n",
       "      <th>4</th>\n",
       "      <td>[46.0, 1.0, 23.0, 285.0, 130.0, 84.0, 85.0, 0.0]</td>\n",
       "      <td>0.0</td>\n",
       "    </tr>\n",
       "  </tbody>\n",
       "</table>\n",
       "</div>"
      ],
      "text/plain": [
       "                                            features  TenYearCHD\n",
       "0    [39.0, 0.0, 0.0, 195.0, 106.0, 70.0, 77.0, 0.0]         0.0\n",
       "1    [46.0, 1.0, 0.0, 250.0, 121.0, 81.0, 76.0, 0.0]         0.0\n",
       "2   [48.0, 0.0, 20.0, 245.0, 127.5, 80.0, 70.0, 0.0]         0.0\n",
       "3  [61.0, 1.0, 30.0, 225.0, 150.0, 95.0, 103.0, 1.0]         1.0\n",
       "4   [46.0, 1.0, 23.0, 285.0, 130.0, 84.0, 85.0, 0.0]         0.0"
      ]
     },
     "execution_count": 57,
     "metadata": {},
     "output_type": "execute_result"
    }
   ],
   "source": [
    "# Sélection des colonnes à utiliser pour l'entraînement\n",
    "model_df = output.select(['features','TenYearCHD'])\n",
    "model_df.toPandas().head()"
   ]
  },
  {
   "cell_type": "markdown",
   "id": "c716e286-41c3-4477-9e9a-e31683031cd3",
   "metadata": {},
   "source": [
    "## Entrainement du modèle"
   ]
  },
  {
   "cell_type": "code",
   "execution_count": 58,
   "id": "c5e02dbc-074d-4a47-b5b4-7142ed005572",
   "metadata": {
    "tags": []
   },
   "outputs": [],
   "source": [
    "# Division des données en ensembles d'entraînement et de test\n",
    "train_data, test_data = model_df.randomSplit([0.75, 0.25], seed=42)\n",
    "\n",
    "# Construction du modèle de régression logistique\n",
    "lr = LogisticRegression(featuresCol=\"features\", labelCol=\"TenYearCHD\")\n",
    "lr_model = lr.fit(train_data)\n"
   ]
  },
  {
   "cell_type": "code",
   "execution_count": 59,
   "id": "8c2331a5-cd53-433e-913f-f5c955010a33",
   "metadata": {
    "tags": []
   },
   "outputs": [
    {
     "name": "stdout",
     "output_type": "stream",
     "text": [
      "+----------+----------+-----+\n",
      "|TenYearCHD|prediction|count|\n",
      "+----------+----------+-----+\n",
      "|       0.0|       0.0|  769|\n",
      "|       0.0|       1.0|    3|\n",
      "|       1.0|       0.0|  128|\n",
      "|       1.0|       1.0|    9|\n",
      "+----------+----------+-----+\n",
      "\n",
      "Accuracy: 0.8558855885588559\n"
     ]
    }
   ],
   "source": [
    "# Prédiction sur l'ensemble de test\n",
    "predictions = lr_model.transform(test_data)\n",
    "\n",
    "# Affichage de la matrice de confusion et de la précision\n",
    "confusion_matrix = predictions.select(F.col(\"TenYearCHD\"), F.col(\"prediction\")).groupBy(F.col(\"TenYearCHD\"), F.col(\"prediction\")).count().orderBy(F.col(\"TenYearCHD\"), F.col(\"prediction\"))\n",
    "confusion_matrix.show()\n",
    "accuracy = predictions.filter(predictions.TenYearCHD == predictions.prediction).count() / float(predictions.count())\n",
    "print(\"Accuracy:\", accuracy)"
   ]
  },
  {
   "cell_type": "code",
   "execution_count": 37,
   "id": "94fbe56c-cad1-4a95-8e3c-0df43b7e9e68",
   "metadata": {
    "tags": []
   },
   "outputs": [],
   "source": [
    "from sklearn.metrics import confusion_matrix\n",
    "import plotly.graph_objects as go\n",
    "import matplotlib.pyplot as plt\n",
    "import numpy as np\n",
    "\n",
    "class_names=[1.0,0.0]\n",
    "import itertools\n",
    "def plot_confusion_matrix(cm, classes,\n",
    "                          normalize=False,\n",
    "                          title='Confusion matrix',\n",
    "                          cmap=plt.cm.Blues):\n",
    "    \"\"\"\n",
    "    This function prints and plots the confusion matrix.\n",
    "    Normalization can be applied by setting `normalize=True`.\n",
    "    \"\"\"\n",
    "    if normalize:\n",
    "        cm = cm.astype('float') / cm.sum(axis=1)[:, np.newaxis]\n",
    "        print(\"Normalized confusion matrix\")\n",
    "    else:\n",
    "        print('Confusion matrix, without normalization')\n",
    "\n",
    "    print(cm)\n",
    "\n",
    "    plt.imshow(cm, interpolation='nearest', cmap=cmap)\n",
    "    plt.title(title)\n",
    "    plt.colorbar()\n",
    "    tick_marks = np.arange(len(classes))\n",
    "    plt.xticks(tick_marks, classes, rotation=45)\n",
    "    plt.yticks(tick_marks, classes)\n",
    "\n",
    "    fmt = '.2f' if normalize else 'd'\n",
    "    thresh = cm.max() / 2.\n",
    "    for i, j in itertools.product(range(cm.shape[0]), range(cm.shape[1])):\n",
    "        plt.text(j, i, format(cm[i, j], fmt),\n",
    "                 horizontalalignment=\"center\",\n",
    "                 color=\"white\" if cm[i, j] > thresh else \"black\")\n",
    "\n",
    "    plt.tight_layout()\n",
    "    plt.ylabel('True label')\n",
    "    plt.xlabel('Predicted label')"
   ]
  },
  {
   "cell_type": "code",
   "execution_count": 38,
   "id": "94ddd1ec-c47e-4dd7-929f-9b78f4e6b444",
   "metadata": {
    "tags": []
   },
   "outputs": [],
   "source": [
    "y_true = predictions.select(F.col(\"TenYearCHD\"))\n",
    "y_true = y_true.toPandas()\n",
    "y_true\n",
    "y_pred = predictions.select(F.col(\"prediction\"))\n",
    "y_pred = y_pred.toPandas()\n"
   ]
  },
  {
   "cell_type": "code",
   "execution_count": 39,
   "id": "7aceb806-ff15-4801-a46b-8ca51d041d32",
   "metadata": {
    "tags": []
   },
   "outputs": [
    {
     "name": "stdout",
     "output_type": "stream",
     "text": [
      "Confusion matrix, without normalization\n",
      "[[  9 128]\n",
      " [  3 769]]\n"
     ]
    },
    {
     "data": {
      "image/png": "[encoded data removed]",
      "text/plain": [
       "<Figure size 640x480 with 2 Axes>"
      ]
     },
     "metadata": {},
     "output_type": "display_data"
    }
   ],
   "source": [
    "cnf_matrix = confusion_matrix(y_true, y_pred,labels=class_names)\n",
    "#cnf_matrix\n",
    "plt.figure()\n",
    "plot_confusion_matrix(cnf_matrix, classes=class_names,\n",
    "                      title='Confusion matrix')\n",
    "plt.show()"
   ]
  },
  {
   "cell_type": "code",
   "execution_count": 40,
   "id": "84da14a6-339a-4279-8a8d-e61e9e757443",
   "metadata": {
    "tags": []
   },
   "outputs": [
    {
     "name": "stdout",
     "output_type": "stream",
     "text": [
      "+----------+-----+\n",
      "|TenYearCHD|count|\n",
      "+----------+-----+\n",
      "|       0.0|  772|\n",
      "|       1.0|  137|\n",
      "+----------+-----+\n",
      "\n"
     ]
    }
   ],
   "source": [
    "test_data.groupBy('TenYearCHD').count().show()"
   ]
  },
  {
   "cell_type": "code",
   "execution_count": null,
   "id": "ed97d79f-7edf-4392-9d8d-c858fde33890",
   "metadata": {},
   "outputs": [],
   "source": []
  },
  {
   "cell_type": "code",
   "execution_count": null,
   "id": "734f120c-b564-468b-9642-ef215f98d303",
   "metadata": {},
   "outputs": [],
   "source": []
  },
  {
   "cell_type": "code",
   "execution_count": null,
   "id": "e78362a6-cce8-415e-8665-4eed0e37d513",
   "metadata": {},
   "outputs": [],
   "source": []
  },
  {
   "cell_type": "code",
   "execution_count": 36,
   "id": "a6c34b74-1c53-4c77-beb5-f8eade414dc6",
   "metadata": {
    "tags": []
   },
   "outputs": [
    {
     "name": "stdout",
     "output_type": "stream",
     "text": [
      "Collecting plotly\n",
      "  Downloading plotly-5.14.1-py2.py3-none-any.whl (15.3 MB)\n",
      "\u001b[2K     \u001b[90m━━━━━━━━━━━━━━━━━━━━━━━━━━━━━━━━━━━━━━━\u001b[0m \u001b[32m15.3/15.3 MB\u001b[0m \u001b[31m529.8 kB/s\u001b[0m eta \u001b[36m0:00:00\u001b[0m00:01\u001b[0m00:01\u001b[0m\n",
      "\u001b[?25hCollecting tenacity>=6.2.0 (from plotly)\n",
      "  Downloading tenacity-8.2.2-py3-none-any.whl (24 kB)\n",
      "Requirement already satisfied: packaging in /opt/conda/lib/python3.10/site-packages (from plotly) (23.1)\n",
      "Installing collected packages: tenacity, plotly\n",
      "Successfully installed plotly-5.14.1 tenacity-8.2.2\n"
     ]
    }
   ],
   "source": [
    "!pip install plotly"
   ]
  },
  {
   "cell_type": "code",
   "execution_count": null,
   "id": "fcaa51fe-7d6c-4350-a4f9-05da6909365d",
   "metadata": {},
   "outputs": [],
   "source": []
  }
 ],
 "metadata": {
  "kernelspec": {
   "display_name": "Python 3 (ipykernel)",
   "language": "python",
   "name": "python3"
  },
  "language_info": {
   "codemirror_mode": {
    "name": "ipython",
    "version": 3
   },
   "file_extension": ".py",
   "mimetype": "text/x-python",
   "name": "python",
   "nbconvert_exporter": "python",
   "pygments_lexer": "ipython3",
   "version": "3.10.10"
  }
 },
 "nbformat": 4,
 "nbformat_minor": 5
}
